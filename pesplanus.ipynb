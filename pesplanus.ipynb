{
  "nbformat": 4,
  "nbformat_minor": 0,
  "metadata": {
    "colab": {
      "provenance": []
    },
    "kernelspec": {
      "name": "python3",
      "display_name": "Python 3"
    },
    "language_info": {
      "name": "python"
    }
  },
  "cells": [
    {
      "cell_type": "code",
      "execution_count": null,
      "metadata": {
        "id": "skrDcly5wZXJ"
      },
      "outputs": [],
      "source": [
        "from typing import Tuple,List\n",
        "import math\n",
        "import random\n",
        "import matplotlib.pyplot as plt\n",
        "import pandas as pd\n",
        "import numpy as np\n",
        "from sklearn.preprocessing import StandardScaler\n",
        "from imblearn.over_sampling import RandomOverSampler\n",
        "from sklearn.neighbors import KNeighborsClassifier\n",
        "from sklearn.metrics import classification_report"
      ]
    },
    {
      "cell_type": "code",
      "source": [
        "def uniform_pdf(x:float)->float:\n",
        "    return 1 if 0<=x<=1 else 0\n",
        "\n",
        "\n",
        "def uniform_cdf(x:float)->float:\n",
        "    if x<0 :return 0\n",
        "    if  0<=x<=1 :return x\n",
        "    if x>0: return 1\n",
        "\n",
        "def normal_pdf(x:float,mu:float=0,sigma:float=1)->float:\n",
        "    sqr2pi=math.sqrt(2*math.pi)\n",
        "    return math.exp(-(x-mu)**2/2/sigma**2)/(sqr2pi*sigma)\n",
        "\n",
        "\n",
        "def normal_cdf(x:float,mu:float=0,sigma:float=1)->float:\n",
        "    return (1+math.erf((x-mu)/math.sqrt(2)/sigma))/2\n",
        "\n",
        "def inverse_normal_cdf(p:float,mu:float=0,sigma:float=1,tolerance=0.000000001)->float:\n",
        "    if mu!=0 or sigma!=1:return mu+sigma*inverse_normal_cdf(p,tolerance=tolerance)\n",
        "    high=10;low=-10\n",
        "    while high-low>tolerance:\n",
        "            mid_z=(high+low)/2\n",
        "            mid_p=normal_cdf(mid_z)\n",
        "            if mid_p<p:low=mid_z\n",
        "            else:high=mid_z\n",
        "\n",
        "    return mid_z\n"
      ],
      "metadata": {
        "id": "zRDbYrzwwt8t"
      },
      "execution_count": null,
      "outputs": []
    },
    {
      "cell_type": "code",
      "source": [
        "xs=[inverse_normal_cdf(x/1000,23.4,1) for x in range(1,999)]\n",
        "df=pd.DataFrame({'AGE':xs})"
      ],
      "metadata": {
        "id": "689lOOQFwzVE"
      },
      "execution_count": null,
      "outputs": []
    },
    {
      "cell_type": "code",
      "source": [
        "#Comparison of normal and flatfoot pressure value in static trials\n",
        "\n",
        "S1=[inverse_normal_cdf(x/1000,0.00462,0.00205) for x in range(3,997)]\n",
        "S2=[inverse_normal_cdf(x/1000,0.00931,0.00261) for x in range(3,997)]\n",
        "S3=[inverse_normal_cdf(x/1000,0.00342,0.00108) for x in range(3,997)]\n",
        "S4=[inverse_normal_cdf(x/1000,0.01371,0.00469) for x in range(3,997)]\n",
        "S5=[inverse_normal_cdf(x/1000,0.00024,0.00059) for x in range(3,997)]\n",
        "\n",
        "Ndf=pd.DataFrame({'sensor1':S1,'sensor2':S2,'sensor3':S3,'sensor4':S4,'sensor5':S5,'label':0})\n",
        "Ndf=Ndf[(Ndf['sensor1']>0) & (Ndf['sensor3']>0) &(Ndf['sensor4']>0) & (Ndf['sensor5']>0)]\n",
        "Ndf.index = np.arange(0, len(Ndf) )\n",
        "\n",
        "#*******************\n",
        "\n",
        "s1=[inverse_normal_cdf(x/1000,0.00929,0.00456) for x in range(3,997)]\n",
        "s2=[inverse_normal_cdf(x/1000,0.00124,0.00347) for x in range(3,997)]\n",
        "s3=[inverse_normal_cdf(x/1000,0.00088,0.00397) for x in range(3,997)]\n",
        "s4=[inverse_normal_cdf(x/1000,0.01765,0.00311) for x in range(3,997)]\n",
        "s5=[inverse_normal_cdf(x/1000,0.00676,0.00477) for x in range(3,997)]\n",
        "\n",
        "Pdf=pd.DataFrame({'sensor1':s1,'sensor2':s2,'sensor3':s3,'sensor4':s4,'sensor5':s5,'label':1})\n",
        "Pdf=Pdf[(Pdf['sensor1']>0) & (Pdf['sensor3']>0) &(Pdf['sensor4']>0) & (Pdf['sensor5']>0)]\n",
        "Pdf.index = np.arange(0, len(Pdf) )\n",
        "\n",
        "#Compine&shuffle both dataframes\n",
        "\n",
        "frames=[Pdf,Ndf]\n",
        "test=pd.concat(frames)\n",
        "test = test.sample(frac = 1)\n",
        "test.index = np.arange(0, len(test) )"
      ],
      "metadata": {
        "id": "c6y28aJzw5GH"
      },
      "execution_count": null,
      "outputs": []
    },
    {
      "cell_type": "code",
      "source": [
        "test"
      ],
      "metadata": {
        "id": "j0DF8TeqxWjW"
      },
      "execution_count": null,
      "outputs": []
    },
    {
      "cell_type": "code",
      "source": [
        "train,valid,test=np.split(test,[int(0.6*len(df)),int(0.8*len(df))])"
      ],
      "metadata": {
        "id": "q8949YO-yLKB"
      },
      "execution_count": null,
      "outputs": []
    },
    {
      "cell_type": "code",
      "source": [
        "def scale_dataset(DataFrame,oversample=False):\n",
        "\n",
        "    x=DataFrame[DataFrame.columns[:-1]].values\n",
        "    y=DataFrame[DataFrame.columns[-1]].values\n",
        "    scaler=StandardScaler()\n",
        "    x=scaler.fit_transform(x)\n",
        "    if oversample:\n",
        "      ros=RandomOverSampler()\n",
        "      x,y=ros.fit_resample(x,y)\n",
        "    data=np.hstack((x, np.reshape(y,(-1,1))))\n",
        "    return data,x,y"
      ],
      "metadata": {
        "id": "fKI1v7v2x0uo"
      },
      "execution_count": null,
      "outputs": []
    },
    {
      "cell_type": "code",
      "source": [
        "train,x_train,y_train=scale_dataset(train,oversample=True)\n",
        "valid,x_valid,y_valid=scale_dataset(valid,oversample=False)\n",
        "test,x_test,y_test=scale_dataset(test,oversample=False)"
      ],
      "metadata": {
        "id": "P1olldYRxduF"
      },
      "execution_count": null,
      "outputs": []
    },
    {
      "cell_type": "code",
      "source": [
        "knn_model=KNeighborsClassifier(n_neighbors=100)\n",
        "knn_model.fit(x_train,y_train)\n"
      ],
      "metadata": {
        "colab": {
          "base_uri": "https://localhost:8080/",
          "height": 75
        },
        "id": "5N7J3et-xrOS",
        "outputId": "2421258e-fd31-4592-d821-0526b61bdd6d"
      },
      "execution_count": null,
      "outputs": [
        {
          "output_type": "execute_result",
          "data": {
            "text/plain": [
              "KNeighborsClassifier(n_neighbors=100)"
            ],
            "text/html": [
              "<style>#sk-container-id-1 {color: black;background-color: white;}#sk-container-id-1 pre{padding: 0;}#sk-container-id-1 div.sk-toggleable {background-color: white;}#sk-container-id-1 label.sk-toggleable__label {cursor: pointer;display: block;width: 100%;margin-bottom: 0;padding: 0.3em;box-sizing: border-box;text-align: center;}#sk-container-id-1 label.sk-toggleable__label-arrow:before {content: \"▸\";float: left;margin-right: 0.25em;color: #696969;}#sk-container-id-1 label.sk-toggleable__label-arrow:hover:before {color: black;}#sk-container-id-1 div.sk-estimator:hover label.sk-toggleable__label-arrow:before {color: black;}#sk-container-id-1 div.sk-toggleable__content {max-height: 0;max-width: 0;overflow: hidden;text-align: left;background-color: #f0f8ff;}#sk-container-id-1 div.sk-toggleable__content pre {margin: 0.2em;color: black;border-radius: 0.25em;background-color: #f0f8ff;}#sk-container-id-1 input.sk-toggleable__control:checked~div.sk-toggleable__content {max-height: 200px;max-width: 100%;overflow: auto;}#sk-container-id-1 input.sk-toggleable__control:checked~label.sk-toggleable__label-arrow:before {content: \"▾\";}#sk-container-id-1 div.sk-estimator input.sk-toggleable__control:checked~label.sk-toggleable__label {background-color: #d4ebff;}#sk-container-id-1 div.sk-label input.sk-toggleable__control:checked~label.sk-toggleable__label {background-color: #d4ebff;}#sk-container-id-1 input.sk-hidden--visually {border: 0;clip: rect(1px 1px 1px 1px);clip: rect(1px, 1px, 1px, 1px);height: 1px;margin: -1px;overflow: hidden;padding: 0;position: absolute;width: 1px;}#sk-container-id-1 div.sk-estimator {font-family: monospace;background-color: #f0f8ff;border: 1px dotted black;border-radius: 0.25em;box-sizing: border-box;margin-bottom: 0.5em;}#sk-container-id-1 div.sk-estimator:hover {background-color: #d4ebff;}#sk-container-id-1 div.sk-parallel-item::after {content: \"\";width: 100%;border-bottom: 1px solid gray;flex-grow: 1;}#sk-container-id-1 div.sk-label:hover label.sk-toggleable__label {background-color: #d4ebff;}#sk-container-id-1 div.sk-serial::before {content: \"\";position: absolute;border-left: 1px solid gray;box-sizing: border-box;top: 0;bottom: 0;left: 50%;z-index: 0;}#sk-container-id-1 div.sk-serial {display: flex;flex-direction: column;align-items: center;background-color: white;padding-right: 0.2em;padding-left: 0.2em;position: relative;}#sk-container-id-1 div.sk-item {position: relative;z-index: 1;}#sk-container-id-1 div.sk-parallel {display: flex;align-items: stretch;justify-content: center;background-color: white;position: relative;}#sk-container-id-1 div.sk-item::before, #sk-container-id-1 div.sk-parallel-item::before {content: \"\";position: absolute;border-left: 1px solid gray;box-sizing: border-box;top: 0;bottom: 0;left: 50%;z-index: -1;}#sk-container-id-1 div.sk-parallel-item {display: flex;flex-direction: column;z-index: 1;position: relative;background-color: white;}#sk-container-id-1 div.sk-parallel-item:first-child::after {align-self: flex-end;width: 50%;}#sk-container-id-1 div.sk-parallel-item:last-child::after {align-self: flex-start;width: 50%;}#sk-container-id-1 div.sk-parallel-item:only-child::after {width: 0;}#sk-container-id-1 div.sk-dashed-wrapped {border: 1px dashed gray;margin: 0 0.4em 0.5em 0.4em;box-sizing: border-box;padding-bottom: 0.4em;background-color: white;}#sk-container-id-1 div.sk-label label {font-family: monospace;font-weight: bold;display: inline-block;line-height: 1.2em;}#sk-container-id-1 div.sk-label-container {text-align: center;}#sk-container-id-1 div.sk-container {/* jupyter's `normalize.less` sets `[hidden] { display: none; }` but bootstrap.min.css set `[hidden] { display: none !important; }` so we also need the `!important` here to be able to override the default hidden behavior on the sphinx rendered scikit-learn.org. See: https://github.com/scikit-learn/scikit-learn/issues/21755 */display: inline-block !important;position: relative;}#sk-container-id-1 div.sk-text-repr-fallback {display: none;}</style><div id=\"sk-container-id-1\" class=\"sk-top-container\"><div class=\"sk-text-repr-fallback\"><pre>KNeighborsClassifier(n_neighbors=100)</pre><b>In a Jupyter environment, please rerun this cell to show the HTML representation or trust the notebook. <br />On GitHub, the HTML representation is unable to render, please try loading this page with nbviewer.org.</b></div><div class=\"sk-container\" hidden><div class=\"sk-item\"><div class=\"sk-estimator sk-toggleable\"><input class=\"sk-toggleable__control sk-hidden--visually\" id=\"sk-estimator-id-1\" type=\"checkbox\" checked><label for=\"sk-estimator-id-1\" class=\"sk-toggleable__label sk-toggleable__label-arrow\">KNeighborsClassifier</label><div class=\"sk-toggleable__content\"><pre>KNeighborsClassifier(n_neighbors=100)</pre></div></div></div></div></div>"
            ]
          },
          "metadata": {},
          "execution_count": 16
        }
      ]
    },
    {
      "cell_type": "code",
      "source": [
        "y_pred=knn_model.predict(x_valid)"
      ],
      "metadata": {
        "id": "2FN3oalSycXS"
      },
      "execution_count": null,
      "outputs": []
    },
    {
      "cell_type": "code",
      "source": [
        "y_pred"
      ],
      "metadata": {
        "colab": {
          "base_uri": "https://localhost:8080/"
        },
        "id": "bzGZpjX7yfuq",
        "outputId": "f414a56e-ebe6-4394-d1ed-5cc578a4b17f"
      },
      "execution_count": null,
      "outputs": [
        {
          "output_type": "execute_result",
          "data": {
            "text/plain": [
              "array([1, 0, 1, 1, 1, 1, 1, 1, 0, 0, 0, 0, 1, 0, 1, 0, 1, 1, 1, 1, 1, 1,\n",
              "       1, 0, 0, 0, 0, 0, 1, 1, 0, 0, 1, 1, 0, 0, 0, 0, 0, 1, 1, 1, 0, 0,\n",
              "       1, 1, 0, 0, 0, 1, 1, 1, 1, 0, 0, 0, 0, 1, 0, 1, 0, 1, 1, 0, 0, 0,\n",
              "       1, 0, 1, 0, 1, 1, 1, 0, 1, 0, 1, 0, 0, 0, 0, 0, 1, 1, 1, 1, 0, 1,\n",
              "       0, 1, 0, 0, 1, 0, 0, 1, 0, 0, 0, 0, 1, 1, 0, 0, 1, 0, 0, 0, 0, 0,\n",
              "       0, 1, 0, 1, 1, 1, 0, 1, 1, 0, 0, 1, 0, 1, 0, 1, 1, 1, 1, 0, 0, 0,\n",
              "       0, 0, 1, 0, 0, 1, 0, 0, 1, 1, 0, 0, 1, 0, 0, 1, 1, 0, 1, 0, 1, 0,\n",
              "       1, 0, 1, 0, 0, 1, 1, 1, 0, 0, 1, 0, 1, 0, 0, 0, 1, 1, 0, 0, 1, 0,\n",
              "       0, 0, 0, 0, 0, 1, 1, 0, 0, 1, 0, 0, 1, 0, 1, 1, 1, 1, 0, 0, 0, 0,\n",
              "       1, 1])"
            ]
          },
          "metadata": {},
          "execution_count": 22
        }
      ]
    },
    {
      "cell_type": "code",
      "source": [
        "y_valid"
      ],
      "metadata": {
        "colab": {
          "base_uri": "https://localhost:8080/"
        },
        "id": "PPRvl9Gwyj3y",
        "outputId": "58d3c40f-4100-458a-971d-5627880733d4"
      },
      "execution_count": null,
      "outputs": [
        {
          "output_type": "execute_result",
          "data": {
            "text/plain": [
              "array([1, 0, 1, 1, 1, 1, 1, 1, 0, 0, 0, 0, 1, 0, 1, 0, 1, 1, 1, 1, 1, 1,\n",
              "       1, 0, 0, 0, 0, 0, 1, 1, 0, 0, 1, 1, 0, 0, 0, 0, 0, 1, 1, 1, 0, 0,\n",
              "       1, 1, 0, 0, 0, 1, 1, 1, 1, 0, 0, 0, 0, 1, 0, 1, 0, 1, 1, 0, 0, 0,\n",
              "       1, 0, 1, 0, 1, 1, 1, 0, 1, 0, 1, 0, 0, 0, 0, 0, 1, 1, 1, 1, 0, 1,\n",
              "       0, 1, 0, 0, 1, 0, 0, 1, 0, 0, 0, 0, 1, 1, 0, 0, 1, 0, 0, 0, 0, 0,\n",
              "       0, 1, 0, 1, 1, 1, 0, 1, 1, 0, 0, 1, 0, 1, 0, 1, 1, 1, 1, 0, 0, 0,\n",
              "       0, 0, 1, 0, 0, 1, 0, 0, 1, 1, 0, 0, 1, 0, 0, 1, 1, 0, 1, 0, 1, 0,\n",
              "       1, 0, 1, 0, 0, 1, 1, 1, 0, 0, 1, 0, 1, 0, 0, 0, 1, 1, 0, 0, 1, 0,\n",
              "       0, 0, 0, 0, 0, 1, 1, 0, 0, 1, 0, 0, 1, 0, 1, 1, 1, 1, 0, 0, 0, 0,\n",
              "       1, 1])"
            ]
          },
          "metadata": {},
          "execution_count": 23
        }
      ]
    },
    {
      "cell_type": "code",
      "source": [
        "classification_report(y_valid,y_pred)"
      ],
      "metadata": {
        "id": "zHLSpaRDynnz"
      },
      "execution_count": null,
      "outputs": []
    },
    {
      "cell_type": "markdown",
      "source": [
        "              precision    recall  f1-score   support\n",
        "\n",
        "           0       1.00      1.00      1.00       108\n",
        "           1       1.00      1.00      1.00        92\n",
        "\n",
        "    accuracy                           1.00       200\n",
        "   macro avg       1.00      1.00      1.00       200\n",
        "weighted avg       1.00      1.00      1.00       200\n"
      ],
      "metadata": {
        "id": "3M3tZIfvy6XW"
      }
    },
    {
      "cell_type": "code",
      "source": [
        "knn_model.predict([[-0.40395052,  1.34590515,  0.6002467 ,  0.64826182, -0.8022319]])"
      ],
      "metadata": {
        "id": "XyJi9W8lytLJ",
        "colab": {
          "base_uri": "https://localhost:8080/"
        },
        "outputId": "07cbf57a-39ac-4c27-f7af-17a694aa9b69"
      },
      "execution_count": 29,
      "outputs": [
        {
          "output_type": "execute_result",
          "data": {
            "text/plain": [
              "array([0])"
            ]
          },
          "metadata": {},
          "execution_count": 29
        }
      ]
    },
    {
      "cell_type": "code",
      "source": [
        "test"
      ],
      "metadata": {
        "id": "Vj6m1xxHz5V_"
      },
      "execution_count": null,
      "outputs": []
    },
    {
      "cell_type": "code",
      "source": [],
      "metadata": {
        "id": "2k5Z6D0Sz7Fc"
      },
      "execution_count": null,
      "outputs": []
    }
  ]
}